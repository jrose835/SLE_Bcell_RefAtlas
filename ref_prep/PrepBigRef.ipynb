{
 "cells": [
  {
   "cell_type": "markdown",
   "id": "071c9c09-de27-4a46-b858-fe28d2ca86cb",
   "metadata": {},
   "source": [
    "# Prep for BigRef\n",
    "\n",
    "Hello. In this notebook I am preparing AnData objects to create a series of references to train scANVI models on. Eventually these references are envisoned as reference datasets unto which we can overlay new experimental data from scRNAseq expeiments involving human Lupus patients' B cells. \n",
    "\n",
    "### Data Sources\n",
    "\n",
    "Sources of these data include\n",
    "\n",
    "1. Slight-Webb, S. et al. Ancestry-based differences in the immune phenotype are associated with lupus activity. JCI Insight 8, e169584.\n",
    "\n",
    "2. Perez, R. K. et al. Single-cell RNA-seq reveals cell type–specific molecular and genetic associations to lupus. Science 376, eabf1970 (2022).\n",
    "\n",
    "In each case I have downloaded and subseted the single cell RNAseq data to include only B cells and Plasmablast cells. \n",
    "\n",
    "The Slight-Webb dataset contains ~20K well-annotated B cells from white and black ancestry groups.\n",
    "\n",
    "The Perez dataset contains ~150K B cells (not as well annotated) from both white and asian ancestry groups\n",
    "\n",
    "### Analysis Plan\n",
    "\n",
    "1. Concatenate the AnData objects from the two studies to create \"atlas\"\n",
    "2. Use scANVI to \"seed label\" larger Perez study cells\n",
    "3. Subset atlas dataset by disease conditions to create\n",
    "        * Healthy Contorl Matched Atlas\n",
    "        * SLE disease Atlas\n",
    "        * Large Atlas (all cells)\n",
    "5. Use scANVI-trained models for quering\n",
    "\n",
    "## Setup and Load Data"
   ]
  },
  {
   "cell_type": "code",
   "execution_count": 1,
   "id": "467d04c5-6d6b-465c-af6c-aeabf3405a51",
   "metadata": {},
   "outputs": [
    {
     "name": "stderr",
     "output_type": "stream",
     "text": [
      "/home/Apps/miniconda3/envs/scvi/lib/python3.9/site-packages/scvi/_settings.py:63: UserWarning: Since v1.0.0, scvi-tools no longer uses a random seed by default. Run `scvi.settings.seed = 0` to reproduce results from previous versions.\n",
      "  self.seed = seed\n",
      "/home/Apps/miniconda3/envs/scvi/lib/python3.9/site-packages/scvi/_settings.py:70: UserWarning: Setting `dl_pin_memory_gpu_training` is deprecated in v1.0 and will be removed in v1.1. Please pass in `pin_memory` to the data loaders instead.\n",
      "  self.dl_pin_memory_gpu_training = (\n",
      "/home/Apps/miniconda3/envs/scvi/lib/python3.9/site-packages/tqdm/auto.py:21: TqdmWarning: IProgress not found. Please update jupyter and ipywidgets. See https://ipywidgets.readthedocs.io/en/stable/user_install.html\n",
      "  from .autonotebook import tqdm as notebook_tqdm\n"
     ]
    }
   ],
   "source": [
    "import scanpy as sc\n",
    "import os\n",
    "import scvi\n",
    "import torch\n",
    "import anndata\n",
    "\n",
    "scvi.settings.seed = 1990"
   ]
  },
  {
   "cell_type": "code",
   "execution_count": 87,
   "id": "d3836c04-4f35-4d82-bb85-0617aa0d51a2",
   "metadata": {},
   "outputs": [
    {
     "data": {
      "text/plain": [
       "AnnData object with n_obs × n_vars = 22574 × 27254\n",
       "    obs: 'orig.ident', 'nCount_RNA', 'nFeature_RNA', 'nCount_CITE', 'nFeature_CITE', 'nCount_HTO', 'nFeature_HTO', 'HTO_maxID', 'HTO_secondID', 'HTO_margin', 'HTO_classification', 'HTO_classification.global', 'hash.ID', 'deMULTIplex.calls', 'deMULTIplex.calls.rescued', 'final.HTO.ID', 'run', 'subject_id', 'ancestry', 'classification', 'age', 'percent_mt', 'percent_hemo', 'IGHA1.IGHA2.diff', 'IGHA1.IGHG1.diff', 'IGHA1.IGHG2.diff', 'IGHA1.IGHG3.diff', 'IGHA1.IGHG4.diff', 'IGHA1.IGHGP.diff', 'IGHA1.IGHD.diff', 'IGHA1.IGHE.diff', 'IGHA1.IGHM.diff', 'IGHA2.IGHG1.diff', 'IGHA2.IGHG2.diff', 'IGHA2.IGHG3.diff', 'IGHA2.IGHG4.diff', 'IGHA2.IGHGP.diff', 'IGHA2.IGHD.diff', 'IGHA2.IGHE.diff', 'IGHA2.IGHM.diff', 'IGHG1.IGHG2.diff', 'IGHG1.IGHG3.diff', 'IGHG1.IGHG4.diff', 'IGHG1.IGHGP.diff', 'IGHG1.IGHD.diff', 'IGHG1.IGHE.diff', 'IGHG1.IGHM.diff', 'IGHG2.IGHG3.diff', 'IGHG2.IGHG4.diff', 'IGHG2.IGHGP.diff', 'IGHG2.IGHD.diff', 'IGHG2.IGHE.diff', 'IGHG2.IGHM.diff', 'IGHG3.IGHG4.diff', 'IGHG3.IGHGP.diff', 'IGHG3.IGHD.diff', 'IGHG3.IGHE.diff', 'IGHG3.IGHM.diff', 'IGHG4.IGHGP.diff', 'IGHG4.IGHD.diff', 'IGHG4.IGHE.diff', 'IGHG4.IGHM.diff', 'IGHGP.IGHD.diff', 'IGHGP.IGHE.diff', 'IGHGP.IGHM.diff', 'IGHD.IGHE.diff', 'IGHD.IGHM.diff', 'IGHE.IGHM.diff', 'IGLC1.IGLC2.diff', 'IGLC1.IGLC3.diff', 'IGLC1.IGLC5.diff', 'IGLC1.IGLC6.diff', 'IGLC1.IGLC7.diff', 'IGLC1.IGKC.diff', 'IGLC2.IGLC3.diff', 'IGLC2.IGLC5.diff', 'IGLC2.IGLC6.diff', 'IGLC2.IGLC7.diff', 'IGLC2.IGKC.diff', 'IGLC3.IGLC5.diff', 'IGLC3.IGLC6.diff', 'IGLC3.IGLC7.diff', 'IGLC3.IGKC.diff', 'IGLC5.IGLC6.diff', 'IGLC5.IGLC7.diff', 'IGLC5.IGKC.diff', 'IGLC6.IGLC7.diff', 'IGLC6.IGKC.diff', 'IGLC7.IGKC.diff', 'cc.diff', 'Phase', 'nCount_SCT', 'nFeature_SCT', 'wsnn.res.0.2', 'wsnn.res.0.4', 'wsnn.res.0.6', 'wsnn.res.0.8', 'wsnn.res.1', 'wsnn.res.1.2', 'SCT.weight', 'CITE.weight', 'coarse_cell_type', 'fine_cell_type', 'clusters_annotated'\n",
       "    var: 'name'\n",
       "    uns: 'log1p'\n",
       "    obsm: 'X_harmony', 'X_harmony_cite', 'X_pca', 'X_pca_cite', 'X_umap_wnn'\n",
       "    layers: 'counts'"
      ]
     },
     "execution_count": 87,
     "metadata": {},
     "output_type": "execute_result"
    }
   ],
   "source": [
    "SW_data_dir=\"/home/Projects/Scharer_sc/scAtlas_ref/data/SlightWebb/\"\n",
    "SW_file=\"SlightWebb_Bcell_AnnData.h5ad\"\n",
    "\n",
    "SW_adata_path = os.path.join(SW_data_dir, SW_file)\n",
    "\n",
    "SW_adata = sc.read_h5ad(SW_adata_path)\n",
    "SW_adata"
   ]
  },
  {
   "cell_type": "code",
   "execution_count": 19,
   "id": "9a017666-84eb-44b7-8e35-6b0cd536617d",
   "metadata": {},
   "outputs": [
    {
     "data": {
      "text/plain": [
       "AnnData object with n_obs × n_vars = 1263676 × 1999\n",
       "    obs: 'batch_cov', 'ind_cov', 'Processing_Cohort', 'louvain', 'cg_cov', 'ct_cov', 'L3', 'ind_cov_batch_cov', 'Age', 'Sex', 'pop_cov', 'Status', 'SLE_status'\n",
       "    var: 'gene_ids'\n",
       "    uns: 'neighbors', 'pca', 'rank_genes_groups', 'umap'\n",
       "    obsm: 'X_pca', 'X_umap'\n",
       "    varm: 'PCs'\n",
       "    obsp: 'connectivities', 'distances'"
      ]
     },
     "execution_count": 19,
     "metadata": {},
     "output_type": "execute_result"
    }
   ],
   "source": [
    "Per_data_dir=\"/home/Projects/Scharer_sc/scAtlas_ref/data/Perez/\"\n",
    "Per_file=\"GSE174188_CLUES1_adjusted.h5ad\"\n",
    "\n",
    "Per_adata_path = os.path.join(Per_data_dir, Per_file)\n",
    "\n",
    "Per_adata = sc.read_h5ad(Per_adata_path)\n",
    "Per_adata"
   ]
  },
  {
   "cell_type": "markdown",
   "id": "fd9192a8-f74f-4f38-8aa4-da849e9d3e7f",
   "metadata": {},
   "source": [
    "I need to do some adjusting to the Perez dataset to get raw counts and just B cells"
   ]
  },
  {
   "cell_type": "code",
   "execution_count": 20,
   "id": "ab5ff20a-cb46-484c-ac77-4f583ff8f2b1",
   "metadata": {},
   "outputs": [
    {
     "name": "stderr",
     "output_type": "stream",
     "text": [
      "/tmp/ipykernel_1557040/3903527706.py:12: ImplicitModificationWarning: Setting element `.layers['counts']` of view, initializing view as actual.\n",
      "  Per_adata2.layers[\"counts\"] = Per_adata2.X.copy()\n"
     ]
    },
    {
     "data": {
      "text/plain": [
       "AnnData object with n_obs × n_vars = 152981 × 32738\n",
       "    obs: 'batch_cov', 'ind_cov', 'Processing_Cohort', 'louvain', 'cg_cov', 'ct_cov', 'L3', 'ind_cov_batch_cov', 'Age', 'Sex', 'pop_cov', 'Status', 'SLE_status'\n",
       "    var: 'name'\n",
       "    layers: 'counts'"
      ]
     },
     "execution_count": 20,
     "metadata": {},
     "output_type": "execute_result"
    }
   ],
   "source": [
    "raw_adata = sc.AnnData(Per_adata.raw.X)\n",
    "raw_adata.var_names = Per_adata.raw.var_names\n",
    "raw_adata.obs_names = Per_adata.obs_names\n",
    "\n",
    "raw_adata.obs = Per_adata.obs.copy()\n",
    "raw_adata.var = Per_adata.raw.var.copy()\n",
    "\n",
    "Bmask = (raw_adata.obs['cg_cov']=='B') | (raw_adata.obs['cg_cov']=='PB')\n",
    "\n",
    "Per_adata2 = raw_adata[Bmask, :]\n",
    "\n",
    "Per_adata2.layers[\"counts\"] = Per_adata2.X.copy()\n",
    "\n",
    "Per_adata2.var.rename(columns={'gene_ids':'name'}, inplace=True)\n",
    "Per_adata2.var.drop('feature_types-0-0-0-0-0-0-0-0-0-0-0-0-0-0-0-0-0-0-0-0-0-0-0-0-0-0-0-0-0-0-0-0-0-0-0-0-0-0-0-0-0-0-0-0-0-0-0-0-0-0-0-0-0-0-0-0-0-0-0-0-0-0-0-0', axis=1, inplace=True)\n",
    "\n",
    "Per_adata2"
   ]
  },
  {
   "cell_type": "code",
   "execution_count": 22,
   "id": "58b03a0f-8894-492c-937f-5ce36ce0f5bb",
   "metadata": {},
   "outputs": [],
   "source": [
    "Per_adata2.var['mt'] = Per_adata2.var_names.str.startswith('MT-')  # annotate the group of mitochondrial genes as 'mt'\n",
    "sc.pp.calculate_qc_metrics(Per_adata2, qc_vars=['mt'], percent_top=None, log1p=False, inplace=True)\n",
    "\n",
    "sc.pp.filter_cells(Per_adata2, min_genes=200)\n",
    "sc.pp.filter_genes(Per_adata2, min_cells=3)\n",
    "\n",
    "Per_adata2 = Per_adata2[Per_adata2.obs.n_genes_by_counts < 2500, :]"
   ]
  },
  {
   "cell_type": "code",
   "execution_count": 23,
   "id": "b5c23919-fd47-4700-a0a6-5853b2affe92",
   "metadata": {},
   "outputs": [
    {
     "data": {
      "text/plain": [
       "View of AnnData object with n_obs × n_vars = 152607 × 21429\n",
       "    obs: 'batch_cov', 'ind_cov', 'Processing_Cohort', 'louvain', 'cg_cov', 'ct_cov', 'L3', 'ind_cov_batch_cov', 'Age', 'Sex', 'pop_cov', 'Status', 'SLE_status', 'n_genes', 'n_genes_by_counts', 'total_counts', 'total_counts_mt', 'pct_counts_mt'\n",
       "    var: 'name', 'n_cells', 'mt', 'n_cells_by_counts', 'mean_counts', 'pct_dropout_by_counts', 'total_counts'\n",
       "    layers: 'counts'"
      ]
     },
     "execution_count": 23,
     "metadata": {},
     "output_type": "execute_result"
    }
   ],
   "source": [
    "Per_adata2"
   ]
  },
  {
   "cell_type": "markdown",
   "id": "de42e525-8e7d-43c5-961c-ffba36400042",
   "metadata": {},
   "source": [
    "## Align metadata\n",
    "\n",
    "One important thing I need to do is align the metadata between the two studies. Important attributes include: batch, Coarse Labels, Fine Labels, Sex, Age, Ancestry, Disease State, Disease Status\n",
    "\n",
    "['batch', 'coarse_lbl', 'fine_lbl','sex','age', 'ancestry', 'disease_state', 'disease_status', 'indiv']"
   ]
  },
  {
   "cell_type": "code",
   "execution_count": 88,
   "id": "07a60f7b-ac10-44b3-adad-614cbd847af6",
   "metadata": {},
   "outputs": [],
   "source": [
    "#Creating Disease State and Disease Status variables\n",
    "import pandas as pd\n",
    "import numpy as np\n",
    "\n",
    "SW_adata.obs['disease_state'] = np.where(\n",
    "    SW_adata.obs['classification'] == 'Control', \n",
    "    'Control', \n",
    "    np.where(\n",
    "        SW_adata.obs['classification'].str.contains('SLE'), \n",
    "        'Disease', \n",
    "        'Unknown'  # This handles any cases that do not match the above conditions\n",
    "    )\n",
    ")"
   ]
  },
  {
   "cell_type": "code",
   "execution_count": 89,
   "id": "b9a6ec0e-d788-44cf-bbbd-c4ecdc7c990a",
   "metadata": {},
   "outputs": [],
   "source": [
    "#Standardizing names of var columns to above\n",
    "SW_names = ['run', 'coarse_cell_type', 'fine_cell_type', 'classification', 'subject_id']\n",
    "names = ['batch', 'coarse_lbl', 'fine_lbl', 'disease_status', 'indiv']\n",
    "\n",
    "rename_dict = dict(zip(SW_names, names))\n",
    "\n",
    "existing_columns = [name for name in SW_names if name in SW_adata.obs.columns]\n",
    "if existing_columns:\n",
    "    SW_adata.obs.rename(columns=rename_dict, inplace=True)"
   ]
  },
  {
   "cell_type": "code",
   "execution_count": 90,
   "id": "3d85fb97-b250-4892-a4bb-844d20fe11e9",
   "metadata": {},
   "outputs": [],
   "source": [
    "#Adding sex variable\n",
    "SW_adata.obs['sex'] = 'Female'"
   ]
  },
  {
   "cell_type": "code",
   "execution_count": 91,
   "id": "1e7ca77c-a04d-4cb8-822c-3ccb8f1fba7d",
   "metadata": {},
   "outputs": [],
   "source": [
    "#Dropping other metadata\n",
    "aligned_obs= ['batch', 'coarse_lbl', 'fine_lbl','sex','age', 'ancestry', 'disease_state', 'disease_status', 'indiv']\n",
    "\n",
    "columns_to_drop = [col for col in SW_adata.obs.columns if col not in aligned_obs]\n",
    "SW_adata.obs.drop(columns=columns_to_drop, inplace=True)"
   ]
  },
  {
   "cell_type": "code",
   "execution_count": 92,
   "id": "34ecc0fc-6aac-431a-869b-b07ef52815fe",
   "metadata": {},
   "outputs": [
    {
     "data": {
      "text/plain": [
       "AnnData object with n_obs × n_vars = 22574 × 27254\n",
       "    obs: 'batch', 'indiv', 'ancestry', 'disease_status', 'age', 'coarse_lbl', 'fine_lbl', 'disease_state', 'sex'\n",
       "    var: 'name'\n",
       "    uns: 'log1p'\n",
       "    obsm: 'X_harmony', 'X_harmony_cite', 'X_pca', 'X_pca_cite', 'X_umap_wnn'\n",
       "    layers: 'counts'"
      ]
     },
     "execution_count": 92,
     "metadata": {},
     "output_type": "execute_result"
    }
   ],
   "source": [
    "SW_adata"
   ]
  },
  {
   "cell_type": "code",
   "execution_count": 76,
   "id": "0aa24976-4676-4ca2-ab86-963a115de816",
   "metadata": {},
   "outputs": [
    {
     "data": {
      "text/plain": [
       "View of AnnData object with n_obs × n_vars = 152607 × 21429\n",
       "    obs: 'batch', 'ind_cov', 'Processing_Cohort', 'louvain', 'coarse_lbl', 'fine_lbl', 'L3', 'ind_cov_batch_cov', 'age', 'sex', 'ancestry', 'disease_status', 'disease_state', 'n_genes', 'n_genes_by_counts', 'total_counts', 'total_counts_mt', 'pct_counts_mt'\n",
       "    var: 'name', 'n_cells', 'mt', 'n_cells_by_counts', 'mean_counts', 'pct_dropout_by_counts', 'total_counts'\n",
       "    layers: 'counts'"
      ]
     },
     "execution_count": 76,
     "metadata": {},
     "output_type": "execute_result"
    }
   ],
   "source": [
    "Per_adata2"
   ]
  },
  {
   "cell_type": "code",
   "execution_count": 95,
   "id": "206e749f-b96a-4c48-a91b-2699ff85d2bc",
   "metadata": {},
   "outputs": [],
   "source": [
    "#Standardizing names of var columns to above\n",
    "Per_names = ['batch_cov', 'cg_cov', 'ct_cov', 'pop_cov','SLE_status', 'Status', 'Sex', 'Age', 'ind_cov']\n",
    "names = ['batch', 'coarse_lbl', 'fine_lbl', 'ancestry','disease_state', 'disease_status', 'sex', 'age', 'indiv']\n",
    "\n",
    "rename_dict = dict(zip(Per_names, names))\n",
    "\n",
    "existing_columns = [name for name in Per_names if name in Per_adata2.obs.columns]\n",
    "if existing_columns:\n",
    "    Per_adata2.obs.rename(columns=rename_dict, inplace=True)"
   ]
  },
  {
   "cell_type": "code",
   "execution_count": 96,
   "id": "fbaa10a8-74e0-403f-ae20-deddfc54c255",
   "metadata": {},
   "outputs": [],
   "source": [
    "#Dropping other metadata\n",
    "aligned_obs= ['batch', 'coarse_lbl', 'fine_lbl','sex','age', 'ancestry', 'disease_state', 'disease_status', 'indiv']\n",
    "\n",
    "columns_to_drop = [col for col in Per_adata2.obs.columns if col not in aligned_obs]\n",
    "Per_adata2.obs.drop(columns=columns_to_drop, inplace=True)"
   ]
  },
  {
   "cell_type": "code",
   "execution_count": 97,
   "id": "e7717676-fa32-4595-936e-8d86794bc264",
   "metadata": {},
   "outputs": [
    {
     "data": {
      "text/plain": [
       "AnnData object with n_obs × n_vars = 152607 × 21429\n",
       "    obs: 'batch', 'indiv', 'coarse_lbl', 'fine_lbl', 'age', 'sex', 'ancestry', 'disease_status', 'disease_state'\n",
       "    var: 'name', 'n_cells', 'mt', 'n_cells_by_counts', 'mean_counts', 'pct_dropout_by_counts', 'total_counts'\n",
       "    layers: 'counts'"
      ]
     },
     "execution_count": 97,
     "metadata": {},
     "output_type": "execute_result"
    }
   ],
   "source": [
    "Per_adata2"
   ]
  },
  {
   "cell_type": "markdown",
   "id": "660d5871-2a90-42a2-8db1-edf2d1e69f92",
   "metadata": {},
   "source": [
    "## Concatenate datasets\n",
    "\n",
    "I've had soem internal debates here around how to concatentate these datasets. I suspect that there are differences in the features measured. Perhaps the best thing is to find the HVG in one dataset and set the other to that??\n",
    "\n",
    "Ultimately I am going to go with the inner join product (overlaps of features seen between the two studies)"
   ]
  },
  {
   "cell_type": "code",
   "execution_count": 98,
   "id": "bc42cbff-3af7-433c-bb68-dac548e1da93",
   "metadata": {},
   "outputs": [],
   "source": [
    "import anndata\n",
    "\n",
    "adata_full = anndata.concat([SW_adata, Per_adata2],merge=\"same\", label=\"study\", keys=[\"SW\", \"Per\"])"
   ]
  },
  {
   "cell_type": "code",
   "execution_count": 99,
   "id": "92c3d8e8-d5af-4c20-9c0c-8c851bc12c29",
   "metadata": {},
   "outputs": [
    {
     "data": {
      "text/plain": [
       "AnnData object with n_obs × n_vars = 175181 × 15123\n",
       "    obs: 'batch', 'indiv', 'ancestry', 'disease_status', 'age', 'coarse_lbl', 'fine_lbl', 'disease_state', 'sex', 'study'\n",
       "    layers: 'counts'"
      ]
     },
     "execution_count": 99,
     "metadata": {},
     "output_type": "execute_result"
    }
   ],
   "source": [
    "adata_full"
   ]
  },
  {
   "cell_type": "code",
   "execution_count": 123,
   "id": "246d0e2a-05d1-45a8-8420-cfb485da9212",
   "metadata": {},
   "outputs": [
    {
     "data": {
      "text/plain": [
       "disease_state\n",
       "SLE        106005\n",
       "Healthy     69176\n",
       "Name: count, dtype: int64"
      ]
     },
     "execution_count": 123,
     "metadata": {},
     "output_type": "execute_result"
    }
   ],
   "source": [
    "adata_full.obs['disease_state'].value_counts()"
   ]
  },
  {
   "cell_type": "code",
   "execution_count": 122,
   "id": "48daa73a-d253-4eb9-98a7-7c395a1616e4",
   "metadata": {},
   "outputs": [],
   "source": [
    "#Aligning levels\n",
    "adata_full.obs['ancestry'].replace('AA', 'African American', inplace=True)\n",
    "adata_full.obs['ancestry'].replace('EA', 'European', inplace=True)\n",
    "\n",
    "adata_full.obs['disease_state'].replace('Disease', 'SLE', inplace=True)\n",
    "adata_full.obs['disease_state'].replace('Control', 'Healthy', inplace=True)\n",
    "\n",
    "adata_full.obs['coarse_lbl'].replace('B cells', 'B', inplace=True)\n",
    "adata_full.obs['coarse_lbl'].replace('Plasmablasts', 'PB', inplace=True)"
   ]
  },
  {
   "cell_type": "code",
   "execution_count": 115,
   "id": "d11c73d7-d896-43ea-ad53-e7ff45821b15",
   "metadata": {},
   "outputs": [],
   "source": [
    "adata_full.obs['labels'] = adata_full.obs['fine_lbl']\n",
    "adata_full.obs['labels'] = adata_full.obs['labels'].cat.add_categories(['Unknown'])\n",
    "adata_full.obs.loc[adata_full.obs['study'] == 'Per', 'labels'] = 'Unknown'\n",
    "adata_full.obs['labels'] = adata_full.obs['labels'].cat.remove_unused_categories()"
   ]
  },
  {
   "cell_type": "code",
   "execution_count": 119,
   "id": "c7cf0195-b153-4273-a3ce-25f561eb2d01",
   "metadata": {},
   "outputs": [
    {
     "data": {
      "text/plain": [
       "AnnData object with n_obs × n_vars = 175181 × 15123\n",
       "    obs: 'batch', 'indiv', 'ancestry', 'disease_status', 'age', 'coarse_lbl', 'fine_lbl', 'disease_state', 'sex', 'study', 'labels'\n",
       "    layers: 'counts'"
      ]
     },
     "execution_count": 119,
     "metadata": {},
     "output_type": "execute_result"
    }
   ],
   "source": [
    "adata_full"
   ]
  },
  {
   "cell_type": "code",
   "execution_count": 124,
   "id": "9d0ef92e-aa81-461f-8b94-5c36f01b0127",
   "metadata": {},
   "outputs": [],
   "source": [
    "#Subset by Disease & Healthy\n",
    "adata_SLE = adata_full[adata_full.obs['disease_state'] == 'SLE'].copy()\n",
    "adata_HC = adata_full[adata_full.obs['disease_state'] == 'Healthy'].copy()"
   ]
  },
  {
   "cell_type": "markdown",
   "id": "0506c55f-7d99-49b2-a5f8-bc8cdd224b05",
   "metadata": {},
   "source": [
    "## Saving AnData Object"
   ]
  },
  {
   "cell_type": "code",
   "execution_count": 125,
   "id": "f39ce73d-2ff1-4fe1-8d6f-f7780dc69425",
   "metadata": {},
   "outputs": [],
   "source": [
    "adata_full.write(\"BcellRefAtlas_SLEHC.h5ad\")\n",
    "adata_SLE.write(\"BcellRefAtlas_SLE.h5ad\")\n",
    "adata_HC.write(\"BcellRefAtlas_HC.h5ad\")"
   ]
  }
 ],
 "metadata": {
  "kernelspec": {
   "display_name": "scvi",
   "language": "python",
   "name": "scvi"
  },
  "language_info": {
   "codemirror_mode": {
    "name": "ipython",
    "version": 3
   },
   "file_extension": ".py",
   "mimetype": "text/x-python",
   "name": "python",
   "nbconvert_exporter": "python",
   "pygments_lexer": "ipython3",
   "version": "3.9.18"
  }
 },
 "nbformat": 4,
 "nbformat_minor": 5
}
